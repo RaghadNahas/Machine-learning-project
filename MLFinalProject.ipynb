{
 "cells": [
  {
   "cell_type": "code",
   "execution_count": 21,
   "metadata": {
    "collapsed": true,
    "ExecuteTime": {
     "end_time": "2024-06-05T05:10:04.401748Z",
     "start_time": "2024-06-05T05:10:04.364220500Z"
    }
   },
   "outputs": [],
   "source": [
    "import numpy as np\n",
    "import pandas as pd\n",
    "import matplotlib as plt\n",
    "from  sklearn.model_selection import train_test_split"
   ]
  },
  {
   "cell_type": "code",
   "execution_count": 22,
   "outputs": [
    {
     "name": "stdout",
     "output_type": "stream",
     "text": [
      "<class 'pandas.core.frame.DataFrame'>\n",
      "RangeIndex: 891 entries, 0 to 890\n",
      "Data columns (total 12 columns):\n",
      " #   Column       Non-Null Count  Dtype  \n",
      "---  ------       --------------  -----  \n",
      " 0   PassengerId  891 non-null    int64  \n",
      " 1   Survived     891 non-null    int64  \n",
      " 2   Pclass       891 non-null    int64  \n",
      " 3   Name         891 non-null    object \n",
      " 4   Sex          891 non-null    object \n",
      " 5   Age          714 non-null    float64\n",
      " 6   SibSp        891 non-null    int64  \n",
      " 7   Parch        891 non-null    int64  \n",
      " 8   Ticket       891 non-null    object \n",
      " 9   Fare         891 non-null    float64\n",
      " 10  Cabin        204 non-null    object \n",
      " 11  Embarked     889 non-null    object \n",
      "dtypes: float64(2), int64(5), object(5)\n",
      "memory usage: 83.7+ KB\n"
     ]
    }
   ],
   "source": [
    "train_set=pd.read_csv(\"train.csv\")\n",
    "train_set.head()\n",
    "train_set.columns\n",
    "train_set.info()\n",
    "#train_set.hist(bins=20,figsize=(20,20))\n",
    "#apperantly none of the features are suitable for linear/multi regression"
   ],
   "metadata": {
    "collapsed": false,
    "ExecuteTime": {
     "end_time": "2024-06-05T05:10:04.492836300Z",
     "start_time": "2024-06-05T05:10:04.378223Z"
    }
   }
  },
  {
   "cell_type": "markdown",
   "source": [
    "I will choose the features ( age,sex,pclass) to predict if someone survives or not on the titanic\n"
   ],
   "metadata": {
    "collapsed": false
   }
  },
  {
   "cell_type": "markdown",
   "source": [
    "Data Preprocessing phase:"
   ],
   "metadata": {
    "collapsed": false
   }
  },
  {
   "cell_type": "code",
   "execution_count": 23,
   "outputs": [],
   "source": [
    "train_set=train_set[[\"Age\",\"Sex\",\"Pclass\",\"Survived\"]]\n",
    "train_set.drop_duplicates(inplace=True)\n",
    "train_set.isna().sum()\n",
    "train_set[\"Age\"]=train_set[\"Age\"].replace(\"null\",np.nan)\n",
    "train_set[\"Age\"]=train_set[\"Age\"].replace(np.nan,train_set[\"Age\"].value_counts().mean())\n",
    "train_set[\"Age\"].value_counts()\n",
    "\n",
    "#if i had time am thinking about using the imputer for replacing missing objects\n",
    "# train_set.describe()\n",
    "\n",
    "#turning categorical values into numaric using one hot incoding\n",
    "train_set=pd.get_dummies(train_set,columns=[\"Sex\"])\n"
   ],
   "metadata": {
    "collapsed": false,
    "ExecuteTime": {
     "end_time": "2024-06-05T05:10:04.492836300Z",
     "start_time": "2024-06-05T05:10:04.426684600Z"
    }
   }
  },
  {
   "cell_type": "code",
   "execution_count": 24,
   "outputs": [
    {
     "data": {
      "text/plain": "    Age    Pclass  Survived  Sex_female  Sex_male\n0  22.0  1.053994         0       False      True\n1  38.0 -1.303980         1        True     False\n2  26.0  1.053994         1        True     False\n3  35.0 -1.303980         1        True     False\n4  35.0  1.053994         0       False      True",
      "text/html": "<div>\n<style scoped>\n    .dataframe tbody tr th:only-of-type {\n        vertical-align: middle;\n    }\n\n    .dataframe tbody tr th {\n        vertical-align: top;\n    }\n\n    .dataframe thead th {\n        text-align: right;\n    }\n</style>\n<table border=\"1\" class=\"dataframe\">\n  <thead>\n    <tr style=\"text-align: right;\">\n      <th></th>\n      <th>Age</th>\n      <th>Pclass</th>\n      <th>Survived</th>\n      <th>Sex_female</th>\n      <th>Sex_male</th>\n    </tr>\n  </thead>\n  <tbody>\n    <tr>\n      <th>0</th>\n      <td>22.0</td>\n      <td>1.053994</td>\n      <td>0</td>\n      <td>False</td>\n      <td>True</td>\n    </tr>\n    <tr>\n      <th>1</th>\n      <td>38.0</td>\n      <td>-1.303980</td>\n      <td>1</td>\n      <td>True</td>\n      <td>False</td>\n    </tr>\n    <tr>\n      <th>2</th>\n      <td>26.0</td>\n      <td>1.053994</td>\n      <td>1</td>\n      <td>True</td>\n      <td>False</td>\n    </tr>\n    <tr>\n      <th>3</th>\n      <td>35.0</td>\n      <td>-1.303980</td>\n      <td>1</td>\n      <td>True</td>\n      <td>False</td>\n    </tr>\n    <tr>\n      <th>4</th>\n      <td>35.0</td>\n      <td>1.053994</td>\n      <td>0</td>\n      <td>False</td>\n      <td>True</td>\n    </tr>\n  </tbody>\n</table>\n</div>"
     },
     "execution_count": 24,
     "metadata": {},
     "output_type": "execute_result"
    }
   ],
   "source": [
    "#feature scalling\n",
    "from sklearn.preprocessing import MinMaxScaler,StandardScaler\n",
    "scaler= StandardScaler()\n",
    "train_set[\"Pclass\"]= scaler.fit_transform(train_set[[\"Pclass\"]])\n",
    "train_set.head()\n"
   ],
   "metadata": {
    "collapsed": false,
    "ExecuteTime": {
     "end_time": "2024-06-05T05:10:04.493832600Z",
     "start_time": "2024-06-05T05:10:04.457928800Z"
    }
   }
  },
  {
   "cell_type": "code",
   "execution_count": 25,
   "outputs": [
    {
     "name": "stdout",
     "output_type": "stream",
     "text": [
      "Training Data : \n",
      "X_train :  (87, 4)\n",
      "y_train :  (87,)\n",
      "594    0\n",
      "434    0\n",
      "543    1\n",
      "248    1\n",
      "677    1\n",
      "      ..\n",
      "307    1\n",
      "97     1\n",
      "148    0\n",
      "583    0\n",
      "144    0\n",
      "Name: Survived, Length: 87, dtype: int64\n",
      "       Pclass  Sex_female  Sex_male   Age\n",
      "594 -0.124993       False      True  37.0\n",
      "434 -1.303980       False      True  50.0\n",
      "543 -0.124993       False      True  32.0\n",
      "248 -1.303980       False      True  37.0\n",
      "677  1.053994        True     False  18.0\n",
      "..        ...         ...       ...   ...\n",
      "307 -1.303980        True     False  17.0\n",
      "97  -1.303980       False      True  23.0\n",
      "148 -0.124993       False      True  36.5\n",
      "583 -1.303980       False      True  36.0\n",
      "144 -0.124993       False      True  18.0\n",
      "\n",
      "[87 rows x 4 columns]\n"
     ]
    }
   ],
   "source": [
    "X=train_set[[\"Pclass\",\"Sex_female\",\"Sex_male\",\"Age\"]]\n",
    "# X=X.to_numpy()\n",
    "Y=train_set[\"Survived\"]\n",
    "# Y = (Y == 1)\n",
    "# Y=Y.to_numpy()\n",
    "\n",
    "X_train_set,X_test_set,Y_train_set,Y_test_set=train_test_split(X,Y,test_size=0.75,random_state=42)\n",
    "print(\"Training Data : \")\n",
    "print(\"X_train : \",X_train_set.shape)\n",
    "print(\"y_train : \",Y_train_set.shape)\n",
    "print(Y_train_set)\n",
    "print(X_train_set)\n"
   ],
   "metadata": {
    "collapsed": false,
    "ExecuteTime": {
     "end_time": "2024-06-05T05:10:04.621491200Z",
     "start_time": "2024-06-05T05:10:04.490841100Z"
    }
   }
  },
  {
   "cell_type": "markdown",
   "source": [
    "I will be using the logistic and the SDGclassifier model"
   ],
   "metadata": {
    "collapsed": false
   }
  },
  {
   "cell_type": "code",
   "execution_count": 26,
   "outputs": [],
   "source": [
    "from sklearn.linear_model import LogisticRegression\n",
    "model = LogisticRegression(max_iter=1000,penalty=\"l2\")\n",
    "model.fit(X_train_set,Y_train_set)\n",
    "Y_predict=model.predict(X_test_set)"
   ],
   "metadata": {
    "collapsed": false,
    "ExecuteTime": {
     "end_time": "2024-06-05T05:10:04.654467600Z",
     "start_time": "2024-06-05T05:10:04.553676600Z"
    }
   }
  },
  {
   "cell_type": "code",
   "execution_count": 27,
   "outputs": [
    {
     "name": "stdout",
     "output_type": "stream",
     "text": [
      "0.7061068702290076\n",
      "0.71900826446281\n",
      "0.6932270916334662\n"
     ]
    }
   ],
   "source": [
    "from sklearn.metrics import accuracy_score,recall_score,f1_score\n",
    "print(accuracy_score(Y_test_set,Y_predict))\n",
    "print(recall_score(Y_test_set,Y_predict))\n",
    "print(f1_score(Y_test_set,Y_predict))"
   ],
   "metadata": {
    "collapsed": false,
    "ExecuteTime": {
     "end_time": "2024-06-05T05:10:04.674395700Z",
     "start_time": "2024-06-05T05:10:04.582597Z"
    }
   }
  },
  {
   "cell_type": "code",
   "execution_count": 28,
   "outputs": [
    {
     "data": {
      "text/plain": "array([1, 1, 1, 1, 1, 1, 1, 1, 1, 1, 1, 1, 1, 1, 1, 0, 1, 1, 1, 0, 1, 1,\n       1, 1, 1, 1, 1, 1, 1, 1, 1, 1, 1, 1, 1, 1, 1, 1, 1, 1, 1, 1, 1, 0,\n       1, 1, 1, 1, 1, 1, 1, 1, 1, 1, 1, 1, 1, 1, 1, 1, 1, 1, 1, 1, 1, 1,\n       1, 1, 1, 1, 1, 1, 1, 1, 1, 1, 0, 1, 1, 1, 1, 1, 1, 1, 1, 1, 1, 1,\n       1, 1, 1, 1, 1, 1, 1, 1, 1, 1, 1, 1, 1, 1, 0, 1, 1, 1, 1, 1, 1, 1,\n       1, 1, 0, 1, 1, 1, 0, 1, 1, 1, 1, 1, 1, 1, 1, 1, 1, 1, 1, 1, 1, 1,\n       1, 1, 1, 1, 1, 1, 1, 1, 1, 1, 1, 1, 1, 1, 1, 0, 1, 1, 1, 1, 1, 1,\n       1, 1, 1, 1, 1, 1, 1, 1, 1, 1, 1, 1, 1, 1, 1, 1, 1, 1, 1, 1, 1, 1,\n       1, 1, 1, 1, 1, 0, 1, 1, 1, 1, 1, 1, 1, 1, 1, 1, 1, 1, 1, 1, 1, 1,\n       1, 1, 1, 1, 1, 1, 1, 1, 1, 1, 1, 1, 1, 1, 1, 1, 1, 1, 1, 1, 1, 0,\n       1, 1, 1, 1, 1, 1, 1, 1, 1, 1, 1, 1, 1, 1, 1, 1, 1, 1, 1, 1, 1, 1,\n       1, 1, 1, 1, 1, 1, 1, 1, 1, 1, 1, 1, 1, 1, 1, 1, 1, 1, 1, 1],\n      dtype=int64)"
     },
     "execution_count": 28,
     "metadata": {},
     "output_type": "execute_result"
    }
   ],
   "source": [
    "from sklearn.linear_model import SGDClassifier\n",
    "sgd_clf = SGDClassifier(random_state=42,penalty=\"elasticnet\")\n",
    "sgd_clf.fit(X_train_set, Y_train_set)\n",
    "sgd_clf.predict(X_test_set)"
   ],
   "metadata": {
    "collapsed": false,
    "ExecuteTime": {
     "end_time": "2024-06-05T05:10:04.763165800Z",
     "start_time": "2024-06-05T05:10:04.620498600Z"
    }
   }
  },
  {
   "cell_type": "code",
   "execution_count": 29,
   "outputs": [
    {
     "name": "stdout",
     "output_type": "stream",
     "text": [
      "0.7061068702290076\n",
      "0.71900826446281\n",
      "0.6932270916334662\n"
     ]
    }
   ],
   "source": [
    "print(accuracy_score(Y_test_set,Y_predict))\n",
    "print(recall_score(Y_test_set,Y_predict))\n",
    "print(f1_score(Y_test_set,Y_predict))"
   ],
   "metadata": {
    "collapsed": false,
    "ExecuteTime": {
     "end_time": "2024-06-05T05:10:04.800058900Z",
     "start_time": "2024-06-05T05:10:04.655400100Z"
    }
   }
  },
  {
   "cell_type": "code",
   "execution_count": 29,
   "outputs": [],
   "source": [],
   "metadata": {
    "collapsed": false,
    "ExecuteTime": {
     "end_time": "2024-06-05T05:10:04.800058900Z",
     "start_time": "2024-06-05T05:10:04.660433Z"
    }
   }
  }
 ],
 "metadata": {
  "kernelspec": {
   "display_name": "Python 3",
   "language": "python",
   "name": "python3"
  },
  "language_info": {
   "codemirror_mode": {
    "name": "ipython",
    "version": 2
   },
   "file_extension": ".py",
   "mimetype": "text/x-python",
   "name": "python",
   "nbconvert_exporter": "python",
   "pygments_lexer": "ipython2",
   "version": "2.7.6"
  }
 },
 "nbformat": 4,
 "nbformat_minor": 0
}
